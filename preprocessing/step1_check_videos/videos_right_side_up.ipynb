{
 "cells": [
  {
   "cell_type": "code",
   "execution_count": 2,
   "metadata": {},
   "outputs": [
    {
     "name": "stdout",
     "output_type": "stream",
     "text": [
      "The autoreload extension is already loaded. To reload it, use:\n",
      "  %reload_ext autoreload\n"
     ]
    }
   ],
   "source": [
    "import os\n",
    "import cv2\n",
    "import csv\n",
    "\n",
    "vids_dir = \"data/random_ten_frames\""
   ]
  },
  {
   "cell_type": "raw",
   "metadata": {},
   "source": [
    "vid_right_side_up = {}\n",
    "for vid in os.listdir(vids_dir):\n",
    "    vid_dir = os.path.join(vids_dir, vid)\n",
    "    for frame in os.listdir(vid_dir):\n",
    "        if vid in vid_right_side_up.keys():\n",
    "            print(vid + \" already judged -- continuing to next vid!\")\n",
    "            continue\n",
    "        else:\n",
    "            img_path = os.path.join(vid_dir, frame)\n",
    "            #Image(img_path)\n",
    "            \n",
    "            img = cv2.imread(img_path, cv2.COLOR_BGR2RGB)\n",
    "            cv2.imshow(img_path, img)\n",
    "            \n",
    "            #img = mpimg.imread(img_path)\n",
    "            #imgplot = plt.imshow(img)\n",
    "            #plt.show(img)\n",
    "            \n",
    "            key = cv2.waitKey(0)\n",
    "            #print(key)\n",
    "            cv2.destroyAllWindows()\n",
    "            \n",
    "            if key == ord('r'):\n",
    "                vid_right_side_up[vid] = 1\n",
    "            elif key == ord('u'):\n",
    "                vid_right_side_up[vid] = 0\n",
    "            elif key == ord(' '):\n",
    "                continue"
   ]
  },
  {
   "cell_type": "raw",
   "metadata": {},
   "source": [
    "len(vid_right_side_up)"
   ]
  },
  {
   "cell_type": "code",
   "execution_count": null,
   "metadata": {
    "collapsed": true
   },
   "outputs": [],
   "source": [
    "ww = csv.writer(open(\"video_right-side-up.csv\", \"w\"))\n",
    "ww.writerow([\"video\", \"right_side_up\"])\n",
    "for key, val in vid_right_side_up.items():\n",
    "    ww.writerow([key, val])"
   ]
  }
 ],
 "metadata": {
  "kernelspec": {
   "display_name": "Python 3",
   "language": "python",
   "name": "python3"
  },
  "language_info": {
   "codemirror_mode": {
    "name": "ipython",
    "version": 3
   },
   "file_extension": ".py",
   "mimetype": "text/x-python",
   "name": "python",
   "nbconvert_exporter": "python",
   "pygments_lexer": "ipython3",
   "version": "3.6.2"
  }
 },
 "nbformat": 4,
 "nbformat_minor": 2
}
