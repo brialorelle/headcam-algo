{
 "cells": [
  {
   "cell_type": "code",
   "execution_count": 16,
   "metadata": {},
   "outputs": [
    {
     "name": "stdout",
     "output_type": "stream",
     "text": [
      "The autoreload extension is already loaded. To reload it, use:\n",
      "  %reload_ext autoreload\n"
     ]
    }
   ],
   "source": [
    "%load_ext autoreload\n",
    "%autoreload 2\n",
    "import os\n",
    "from utils import vid_info_dataframe, frame_info_dataframe, submit_job\n",
    "from detector_validation_helpers import sample_dataframe, calc_prf, save_sample_imgs\n",
    "from openpose_helpers import run_openpose, condense_openpose\n",
    "from config import *"
   ]
  },
  {
   "cell_type": "code",
   "execution_count": 4,
   "metadata": {},
   "outputs": [
    {
     "data": {
      "text/plain": [
       "['/scratch/users/agrawalk/pipeline_test_vids/']"
      ]
     },
     "execution_count": 4,
     "metadata": {},
     "output_type": "execute_result"
    }
   ],
   "source": [
    "VIDEO_DIRS"
   ]
  },
  {
   "cell_type": "code",
   "execution_count": 5,
   "metadata": {},
   "outputs": [
    {
     "data": {
      "text/html": [
       "<div>\n",
       "<style scoped>\n",
       "    .dataframe tbody tr th:only-of-type {\n",
       "        vertical-align: middle;\n",
       "    }\n",
       "\n",
       "    .dataframe tbody tr th {\n",
       "        vertical-align: top;\n",
       "    }\n",
       "\n",
       "    .dataframe thead th {\n",
       "        text-align: right;\n",
       "    }\n",
       "</style>\n",
       "<table border=\"1\" class=\"dataframe\">\n",
       "  <thead>\n",
       "    <tr style=\"text-align: right;\">\n",
       "      <th></th>\n",
       "      <th>vid_path</th>\n",
       "      <th>vid_name</th>\n",
       "      <th>child_id</th>\n",
       "      <th>unix_time</th>\n",
       "      <th>frame_count</th>\n",
       "      <th>fps</th>\n",
       "    </tr>\n",
       "  </thead>\n",
       "  <tbody>\n",
       "    <tr>\n",
       "      <th>0</th>\n",
       "      <td>/scratch/users/agrawalk/pipeline_test_vids/S_2...</td>\n",
       "      <td>S_20130421_0604_01.AVI</td>\n",
       "      <td>S</td>\n",
       "      <td>1.366528e+09</td>\n",
       "      <td>18259</td>\n",
       "      <td>30.000300</td>\n",
       "    </tr>\n",
       "    <tr>\n",
       "      <th>1</th>\n",
       "      <td>/scratch/users/agrawalk/pipeline_test_vids/S_2...</td>\n",
       "      <td>S_20130421_0604_02.AVI</td>\n",
       "      <td>S</td>\n",
       "      <td>1.366528e+09</td>\n",
       "      <td>53656</td>\n",
       "      <td>29.805371</td>\n",
       "    </tr>\n",
       "    <tr>\n",
       "      <th>2</th>\n",
       "      <td>/scratch/users/agrawalk/pipeline_test_vids/A_2...</td>\n",
       "      <td>A_20130531_0818_01</td>\n",
       "      <td>A</td>\n",
       "      <td>1.369984e+09</td>\n",
       "      <td>53798</td>\n",
       "      <td>29.886432</td>\n",
       "    </tr>\n",
       "    <tr>\n",
       "      <th>3</th>\n",
       "      <td>/scratch/users/agrawalk/pipeline_test_vids/A_2...</td>\n",
       "      <td>A_20130601_0819_04</td>\n",
       "      <td>A</td>\n",
       "      <td>1.370070e+09</td>\n",
       "      <td>29024</td>\n",
       "      <td>29.915936</td>\n",
       "    </tr>\n",
       "  </tbody>\n",
       "</table>\n",
       "</div>"
      ],
      "text/plain": [
       "                                            vid_path                vid_name  \\\n",
       "0  /scratch/users/agrawalk/pipeline_test_vids/S_2...  S_20130421_0604_01.AVI   \n",
       "1  /scratch/users/agrawalk/pipeline_test_vids/S_2...  S_20130421_0604_02.AVI   \n",
       "2  /scratch/users/agrawalk/pipeline_test_vids/A_2...      A_20130531_0818_01   \n",
       "3  /scratch/users/agrawalk/pipeline_test_vids/A_2...      A_20130601_0819_04   \n",
       "\n",
       "  child_id     unix_time  frame_count        fps  \n",
       "0        S  1.366528e+09        18259  30.000300  \n",
       "1        S  1.366528e+09        53656  29.805371  \n",
       "2        A  1.369984e+09        53798  29.886432  \n",
       "3        A  1.370070e+09        29024  29.915936  "
      ]
     },
     "execution_count": 5,
     "metadata": {},
     "output_type": "execute_result"
    }
   ],
   "source": [
    "vid_df = vid_info_dataframe(VIDEO_DIRS)\n",
    "vid_df.head()"
   ]
  },
  {
   "cell_type": "code",
   "execution_count": 6,
   "metadata": {},
   "outputs": [
    {
     "data": {
      "text/plain": [
       "array(['S_20130421_0604_01.AVI', 'S_20130421_0604_02.AVI',\n",
       "       'A_20130531_0818_01', 'A_20130601_0819_04'], dtype=object)"
      ]
     },
     "execution_count": 6,
     "metadata": {},
     "output_type": "execute_result"
    }
   ],
   "source": [
    "vid_df['vid_name'].unique()"
   ]
  },
  {
   "cell_type": "code",
   "execution_count": 7,
   "metadata": {},
   "outputs": [],
   "source": [
    "frame_df = frame_info_dataframe(vid_df)"
   ]
  },
  {
   "cell_type": "code",
   "execution_count": 8,
   "metadata": {},
   "outputs": [
    {
     "data": {
      "text/html": [
       "<div>\n",
       "<style scoped>\n",
       "    .dataframe tbody tr th:only-of-type {\n",
       "        vertical-align: middle;\n",
       "    }\n",
       "\n",
       "    .dataframe tbody tr th {\n",
       "        vertical-align: top;\n",
       "    }\n",
       "\n",
       "    .dataframe thead th {\n",
       "        text-align: right;\n",
       "    }\n",
       "</style>\n",
       "<table border=\"1\" class=\"dataframe\">\n",
       "  <thead>\n",
       "    <tr style=\"text-align: right;\">\n",
       "      <th></th>\n",
       "      <th>vid_name</th>\n",
       "      <th>vid_path</th>\n",
       "      <th>child_id</th>\n",
       "      <th>frame</th>\n",
       "    </tr>\n",
       "  </thead>\n",
       "  <tbody>\n",
       "    <tr>\n",
       "      <th>0</th>\n",
       "      <td>S_20130421_0604_01.AVI</td>\n",
       "      <td>/scratch/users/agrawalk/pipeline_test_vids/S_2...</td>\n",
       "      <td>S</td>\n",
       "      <td>0</td>\n",
       "    </tr>\n",
       "    <tr>\n",
       "      <th>1</th>\n",
       "      <td>S_20130421_0604_01.AVI</td>\n",
       "      <td>/scratch/users/agrawalk/pipeline_test_vids/S_2...</td>\n",
       "      <td>S</td>\n",
       "      <td>1</td>\n",
       "    </tr>\n",
       "    <tr>\n",
       "      <th>2</th>\n",
       "      <td>S_20130421_0604_01.AVI</td>\n",
       "      <td>/scratch/users/agrawalk/pipeline_test_vids/S_2...</td>\n",
       "      <td>S</td>\n",
       "      <td>2</td>\n",
       "    </tr>\n",
       "    <tr>\n",
       "      <th>3</th>\n",
       "      <td>S_20130421_0604_01.AVI</td>\n",
       "      <td>/scratch/users/agrawalk/pipeline_test_vids/S_2...</td>\n",
       "      <td>S</td>\n",
       "      <td>3</td>\n",
       "    </tr>\n",
       "    <tr>\n",
       "      <th>4</th>\n",
       "      <td>S_20130421_0604_01.AVI</td>\n",
       "      <td>/scratch/users/agrawalk/pipeline_test_vids/S_2...</td>\n",
       "      <td>S</td>\n",
       "      <td>4</td>\n",
       "    </tr>\n",
       "  </tbody>\n",
       "</table>\n",
       "</div>"
      ],
      "text/plain": [
       "                 vid_name                                           vid_path  \\\n",
       "0  S_20130421_0604_01.AVI  /scratch/users/agrawalk/pipeline_test_vids/S_2...   \n",
       "1  S_20130421_0604_01.AVI  /scratch/users/agrawalk/pipeline_test_vids/S_2...   \n",
       "2  S_20130421_0604_01.AVI  /scratch/users/agrawalk/pipeline_test_vids/S_2...   \n",
       "3  S_20130421_0604_01.AVI  /scratch/users/agrawalk/pipeline_test_vids/S_2...   \n",
       "4  S_20130421_0604_01.AVI  /scratch/users/agrawalk/pipeline_test_vids/S_2...   \n",
       "\n",
       "  child_id  frame  \n",
       "0        S      0  \n",
       "1        S      1  \n",
       "2        S      2  \n",
       "3        S      3  \n",
       "4        S      4  "
      ]
     },
     "execution_count": 8,
     "metadata": {},
     "output_type": "execute_result"
    }
   ],
   "source": [
    "frame_df.head()"
   ]
  },
  {
   "cell_type": "code",
   "execution_count": 9,
   "metadata": {},
   "outputs": [],
   "source": [
    "sample_df = sample_dataframe(frame_df, sample_size=100)\n"
   ]
  },
  {
   "cell_type": "code",
   "execution_count": 10,
   "metadata": {},
   "outputs": [
    {
     "name": "stdout",
     "output_type": "stream",
     "text": [
      "<class 'pandas.core.frame.DataFrame'>\n",
      "RangeIndex: 100 entries, 0 to 99\n",
      "Data columns (total 4 columns):\n",
      "vid_name    100 non-null object\n",
      "vid_path    100 non-null object\n",
      "child_id    100 non-null object\n",
      "frame       100 non-null int64\n",
      "dtypes: int64(1), object(3)\n",
      "memory usage: 3.2+ KB\n",
      "None\n"
     ]
    },
    {
     "data": {
      "text/html": [
       "<div>\n",
       "<style scoped>\n",
       "    .dataframe tbody tr th:only-of-type {\n",
       "        vertical-align: middle;\n",
       "    }\n",
       "\n",
       "    .dataframe tbody tr th {\n",
       "        vertical-align: top;\n",
       "    }\n",
       "\n",
       "    .dataframe thead th {\n",
       "        text-align: right;\n",
       "    }\n",
       "</style>\n",
       "<table border=\"1\" class=\"dataframe\">\n",
       "  <thead>\n",
       "    <tr style=\"text-align: right;\">\n",
       "      <th></th>\n",
       "      <th>vid_name</th>\n",
       "      <th>vid_path</th>\n",
       "      <th>child_id</th>\n",
       "      <th>frame</th>\n",
       "    </tr>\n",
       "  </thead>\n",
       "  <tbody>\n",
       "    <tr>\n",
       "      <th>0</th>\n",
       "      <td>A_20130531_0818_01</td>\n",
       "      <td>/scratch/users/agrawalk/pipeline_test_vids/A_2...</td>\n",
       "      <td>A</td>\n",
       "      <td>4378</td>\n",
       "    </tr>\n",
       "    <tr>\n",
       "      <th>1</th>\n",
       "      <td>A_20130531_0818_01</td>\n",
       "      <td>/scratch/users/agrawalk/pipeline_test_vids/A_2...</td>\n",
       "      <td>A</td>\n",
       "      <td>5626</td>\n",
       "    </tr>\n",
       "    <tr>\n",
       "      <th>2</th>\n",
       "      <td>A_20130531_0818_01</td>\n",
       "      <td>/scratch/users/agrawalk/pipeline_test_vids/A_2...</td>\n",
       "      <td>A</td>\n",
       "      <td>6760</td>\n",
       "    </tr>\n",
       "    <tr>\n",
       "      <th>3</th>\n",
       "      <td>A_20130531_0818_01</td>\n",
       "      <td>/scratch/users/agrawalk/pipeline_test_vids/A_2...</td>\n",
       "      <td>A</td>\n",
       "      <td>8501</td>\n",
       "    </tr>\n",
       "    <tr>\n",
       "      <th>4</th>\n",
       "      <td>A_20130531_0818_01</td>\n",
       "      <td>/scratch/users/agrawalk/pipeline_test_vids/A_2...</td>\n",
       "      <td>A</td>\n",
       "      <td>8840</td>\n",
       "    </tr>\n",
       "  </tbody>\n",
       "</table>\n",
       "</div>"
      ],
      "text/plain": [
       "             vid_name                                           vid_path  \\\n",
       "0  A_20130531_0818_01  /scratch/users/agrawalk/pipeline_test_vids/A_2...   \n",
       "1  A_20130531_0818_01  /scratch/users/agrawalk/pipeline_test_vids/A_2...   \n",
       "2  A_20130531_0818_01  /scratch/users/agrawalk/pipeline_test_vids/A_2...   \n",
       "3  A_20130531_0818_01  /scratch/users/agrawalk/pipeline_test_vids/A_2...   \n",
       "4  A_20130531_0818_01  /scratch/users/agrawalk/pipeline_test_vids/A_2...   \n",
       "\n",
       "  child_id  frame  \n",
       "0        A   4378  \n",
       "1        A   5626  \n",
       "2        A   6760  \n",
       "3        A   8501  \n",
       "4        A   8840  "
      ]
     },
     "execution_count": 10,
     "metadata": {},
     "output_type": "execute_result"
    }
   ],
   "source": [
    "print(sample_df.info())\n",
    "sample_df.head()"
   ]
  },
  {
   "cell_type": "code",
   "execution_count": 13,
   "metadata": {},
   "outputs": [
    {
     "name": "stdout",
     "output_type": "stream",
     "text": [
      "Loading imgs #0\n",
      "Saving imgs #0\n"
     ]
    }
   ],
   "source": [
    "save_sample_imgs(sample_df)"
   ]
  },
  {
   "cell_type": "code",
   "execution_count": null,
   "metadata": {},
   "outputs": [],
   "source": [
    "annotate_frames([os.path.join(OUTPUT, 'sample_imgs_0.npy')])"
   ]
  },
  {
   "cell_type": "code",
   "execution_count": 58,
   "metadata": {},
   "outputs": [
    {
     "name": "stdout",
     "output_type": "stream",
     "text": [
      "Precision: 0.5 Recall: 1.0 F1 Score: 0.6666666666666666\n"
     ]
    },
    {
     "data": {
      "text/plain": [
       "(0.5, 1.0, 0.6666666666666666)"
      ]
     },
     "execution_count": 58,
     "metadata": {},
     "output_type": "execute_result"
    }
   ],
   "source": [
    "calc_prf([0,1,0,1], [0,1,0,0], print_vals=True)"
   ]
  },
  {
   "cell_type": "code",
   "execution_count": null,
   "metadata": {},
   "outputs": [],
   "source": []
  }
 ],
 "metadata": {
  "kernelspec": {
   "display_name": "Python 3",
   "language": "python",
   "name": "python3"
  },
  "language_info": {
   "codemirror_mode": {
    "name": "ipython",
    "version": 3
   },
   "file_extension": ".py",
   "mimetype": "text/x-python",
   "name": "python",
   "nbconvert_exporter": "python",
   "pygments_lexer": "ipython3",
   "version": "3.6.7"
  }
 },
 "nbformat": 4,
 "nbformat_minor": 2
}
