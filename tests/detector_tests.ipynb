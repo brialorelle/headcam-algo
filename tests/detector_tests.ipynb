{
 "cells": [
  {
   "cell_type": "code",
   "execution_count": 2,
   "metadata": {},
   "outputs": [],
   "source": [
    "\"\"\"\n",
    "This notebook contains code for drawing face and random samples from a video, \n",
    "annotating on face/no face, and calculating precision, recall, and F-score.\n",
    "\"\"\"\n",
    "\n",
    "import pandas as pd\n",
    "import cv2\n",
    "import os\n"
   ]
  },
  {
   "cell_type": "code",
   "execution_count": null,
   "metadata": {},
   "outputs": [],
   "source": [
    "def save_frames(row):\n",
    "    \"\"\" for each face-detected frame, saves the bounding box as an image \"\"\"                             num = str(row['frame'])\n",
    "    num = '0' * (5 - len(num)) + num                                                                     img = cv2.imread(os.path.join(FRAME_DIR, 'image-{}.jpg'.format(num)))\n",
    "    cv2.imwrite(os.path.join(OUT_DIR, 'image-{}.jpg'.format(num)), img)\n",
    "\n",
    "def sample_frames(frame_dir, csv_dir, only_face, num_frames=100):\n",
    "    \"\"\"sample frames from the vid folder\"\"\"\n",
    "    VID_FOLDER = sys.argv[1]\n",
    "\n",
    "    face_sample = bool(sys.argv[2])\n",
    "    if VID_FOLDER[-1] == '/':\n",
    "        VID_FOLDER = VID_FOLDER[:-1]\n",
    "    VID_NAME = ntpath.basename(VID_FOLDER).split('.')[0]\n",
    "    OUT_DIR = os.path.join(os.path.expandvars(\"$SCRATCH\"),\n",
    "                           'headcam-algo/tests/output/{0}_{1}2'.format(VID_NAME, 'face' if only_face else 'random'))\n",
    " \n",
    "\n",
    "    if not os.path.exists(OUT_DIR):\n",
    "        os.makedirs(OUT_DIR)\n",
    "\n",
    "    df = pd.read_csv(CSV_DIR)\n",
    "\n",
    "    df.rename(columns={df.columns[0]: 'name',\n",
    "                       df.columns[1]: 'frame',\n",
    "                       df.columns[2]: 'face',\n",
    "                       df.columns[3]: 'x1',\n",
    "                       df.columns[4]: 'y1',\n",
    "                       df.columns[5]: 'x2',\n",
    "                       df.columns[6]: 'y2'}, inplace=True)\n",
    "\n",
    "    if only_face:\n",
    "        df = df[df['face']]\n",
    "    df = df.sample(sample_size)\n",
    "    df.apply(save_frames, axis=1)\n",
    "    df.to_csv(FRAME_DIR)"
   ]
  },
  {
   "cell_type": "code",
   "execution_count": null,
   "metadata": {},
   "outputs": [],
   "source": [
    "FRAME_DIR = os.path.join(os.path.expandvars(\"$SCRATCH\"), \n",
    "                         'headcam-algo/tests/output/{}_frames'.format(VID_NAME))\n",
    "CSV_DIR = os.path.join(os.path.expandvars(\"$SCRATCH\"), \n",
    "                       'headcam-algo/tests/output/{}_mtcnn.csv'.format(VID_NAME))"
   ]
  }
 ],
 "metadata": {
  "kernelspec": {
   "display_name": "Python 3",
   "language": "python",
   "name": "python3"
  },
  "language_info": {
   "codemirror_mode": {
    "name": "ipython",
    "version": 3
   },
   "file_extension": ".py",
   "mimetype": "text/x-python",
   "name": "python",
   "nbconvert_exporter": "python",
   "pygments_lexer": "ipython3",
   "version": "3.6.6"
  }
 },
 "nbformat": 4,
 "nbformat_minor": 2
}
