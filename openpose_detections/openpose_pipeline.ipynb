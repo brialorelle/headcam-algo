{
 "cells": [
  {
   "cell_type": "code",
   "execution_count": 1,
   "metadata": {},
   "outputs": [],
   "source": [
    "%load_ext autoreload\n",
    "%autoreload 2\n",
    "import os\n",
    "import time\n",
    "\n",
    "import pandas as pd\n",
    "\n",
    "from config import *\n",
    "from run_openpose import run_openpose\n",
    "from openpose_helpers import extract_face_hand_presence"
   ]
  },
  {
   "cell_type": "markdown",
   "metadata": {},
   "source": [
    "# Step 1: Run Openpose on videos\n",
    "\n",
    "NOTE: It is easier to run this part of code in an IPython session running in a tmux pane, so that you can detach and submit jobs in the background over the course of several days."
   ]
  },
  {
   "cell_type": "code",
   "execution_count": 3,
   "metadata": {},
   "outputs": [
    {
     "name": "stdout",
     "output_type": "stream",
     "text": [
      "VID_ROTATE:  180\n",
      "OPENPOSE_OUTPUT:  $GROUP_SCRATCH/Home_Headcam_new/outputs/openpose_raw_json\n",
      "OPENPOSE_CONDENSED_OUTPUT:  $GROUP_SCRATCH/Home_Headcam_new/outputs/openpose_condensed\n"
     ]
    }
   ],
   "source": [
    "#Edit these parameters in config.py\n",
    "\n",
    "print('VID_ROTATE: ', VID_ROTATE)\n",
    "print('OPENPOSE_OUTPUT: ', OPENPOSE_OUTPUT)\n",
    "print('OPENPOSE_CONDENSED_OUTPUT: ', OPENPOSE_CONDENSED_OUTPUT)"
   ]
  },
  {
   "cell_type": "code",
   "execution_count": 4,
   "metadata": {},
   "outputs": [],
   "source": [
    "def queue_size():\n",
    "    size = !squeue -u $USER\n",
    "    return len(size) - 1\n",
    "\n",
    "def wait_for_space(max_jobs):\n",
    "    time.sleep(5) #Allow for squeue to refresh properly\n",
    "    if queue_size() >= max_jobs:\n",
    "        print('Waiting for space in queue...')\n",
    "    while queue_size() >= max_jobs:\n",
    "        time.sleep(600)\n",
    "    \n",
    "def run_openpose_on_vids(vid_dir, op_output_dir=OPENPOSE_OUTPUT, condensed_output_dir=OPENPOSE_CONDENSED_OUTPUT, flipped_df_path=None):\n",
    "    fdf = pd.read_csv(flipped_df_path) if flipped_df_path else None\n",
    "    vid_files = os.listdir(vid_dir)\n",
    "    for i, vid_name in enumerate(vid_files):\n",
    "        print(f'{i+1}/{len(vid_files)}: {vid_name}')\n",
    "        if fdf and fdf[fdf['video'] == vid_name[:-4]]['right_side_up'].values[0] == 1:\n",
    "            print(f'skipping {vid_name} since it\\'s allocentric')\n",
    "            continue\n",
    "            # These \"right-side-up\" videos are mostly allocentric videos,\n",
    "            # and thus irrelevant to our egocentric analyses\n",
    "            \n",
    "        wait_for_space(40)\n",
    "        vid_path = os.path.join(vid_dir, vid_name)\n",
    "        run_openpose(vid_path, op_output_dir, \n",
    "                     frame_rotate=VID_ROTATE,\n",
    "                     condensed_output_dir=condensed_output_dir,\n",
    "                     keypoint_scale=3)"
   ]
  },
  {
   "cell_type": "code",
   "execution_count": null,
   "metadata": {},
   "outputs": [],
   "source": [
    "run_openpose_on_vids(, op_output_dir=OPENPOSE_OUTPUT, condensed_output_dir=OPENPOSE_CONDENSED_OUTPUT):"
   ]
  },
  {
   "cell_type": "markdown",
   "metadata": {},
   "source": [
    "# Step 2: Extract face/hand presence"
   ]
  },
  {
   "cell_type": "code",
   "execution_count": null,
   "metadata": {},
   "outputs": [],
   "source": [
    "def extract_face_hand_presence_all(condensed_output_dir=OPENPOSE_CONDENSED_OUTPUT):\n",
    "    condensed_files = os.listdir(condensed_output_dir)\n",
    "    for i, vid_df_name in enumerate(condensed_files):\n",
    "        print(f'{i+1}/{len(condensed_files)}: {vid_df_name}')\n",
    "        vid_df_path = os.path.join(condensed_output_dir, vid_df_name)\n",
    "        vid_df = pd.read_json(vid_df_path)\n",
    "        if 'nose_conf' in vid_df and 'wrist_conf' in vid_df: \n",
    "            print('already extracted...continuing')\n",
    "            continue\n",
    "        vid_df = extract_face_hand_presence(vid_df)\n",
    "        vid_df.to_json(vid_df_path)"
   ]
  }
 ],
 "metadata": {
  "kernelspec": {
   "display_name": "Python 3",
   "language": "python",
   "name": "python3"
  },
  "language_info": {
   "codemirror_mode": {
    "name": "ipython",
    "version": 3
   },
   "file_extension": ".py",
   "mimetype": "text/x-python",
   "name": "python",
   "nbconvert_exporter": "python",
   "pygments_lexer": "ipython3",
   "version": "3.7.6"
  }
 },
 "nbformat": 4,
 "nbformat_minor": 4
}
