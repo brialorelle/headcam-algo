{
 "cells": [
  {
   "cell_type": "code",
   "execution_count": 1,
   "metadata": {},
   "outputs": [],
   "source": [
    "%load_ext autoreload\n",
    "%autoreload 2\n",
    "import os\n",
    "import json\n",
    "\n",
    "from config import *\n",
    "from openpose_helpers import *"
   ]
  },
  {
   "cell_type": "markdown",
   "metadata": {},
   "source": [
    "# Openpose"
   ]
  },
  {
   "cell_type": "markdown",
   "metadata": {},
   "source": [
    "#### Running Openpose"
   ]
  },
  {
   "cell_type": "code",
   "execution_count": 3,
   "metadata": {},
   "outputs": [
    {
     "name": "stdin",
     "output_type": "stream",
     "text": [
      "overwrite existing directory /scratch/users/agrawalk/headcam-test-outputs/S_20130417_0600_01? (yes/no) yes\n"
     ]
    },
    {
     "name": "stdout",
     "output_type": "stream",
     "text": [
      "command submitted to sbatch job:  singularity exec --nv $SINGULARITY_CACHEDIR/openpose-latest.img bash -c 'cd /openpose-master && ./build/examples/openpose/openpose.bin --video /scratch/groups/mcfrank/Home_Headcam_new/Samcam/S_20130417_0600_01.mp4 --face --hand --write_keypoint_json /scratch/users/agrawalk/headcam-test-outputs/S_20130417_0600_01'\n",
      "command line output:  (b'Submitted batch job 186907\\n', b'')\n"
     ]
    },
    {
     "name": "stdin",
     "output_type": "stream",
     "text": [
      "overwrite existing directory /scratch/users/agrawalk/headcam-test-outputs/S_20130417_0600_01? (yes/no) yes\n"
     ]
    },
    {
     "name": "stdout",
     "output_type": "stream",
     "text": [
      "command submitted to sbatch job:  singularity exec --nv $SINGULARITY_CACHEDIR/openpose-latest.img bash -c 'cd /openpose-master && ./build/examples/openpose/openpose.bin --video /scratch/groups/mcfrank/Home_Headcam_new/Samcam/S_20130417_0600_01.mp4 --face --write_keypoint_json /scratch/users/agrawalk/headcam-test-outputs/S_20130417_0600_01'\n",
      "command line output:  (b'Submitted batch job 186911\\n', b'')\n"
     ]
    },
    {
     "name": "stdin",
     "output_type": "stream",
     "text": [
      "overwrite existing directory /scratch/users/agrawalk/headcam-test-outputs/S_20130417_0600_01? (yes/no) yes\n"
     ]
    },
    {
     "name": "stdout",
     "output_type": "stream",
     "text": [
      "command submitted to sbatch job:  singularity exec --nv $SINGULARITY_CACHEDIR/openpose-latest.img bash -c 'cd /openpose-master && ./build/examples/openpose/openpose.bin --video /scratch/groups/mcfrank/Home_Headcam_new/Samcam/S_20130417_0600_01.mp4 --hand --write_keypoint_json /scratch/users/agrawalk/headcam-test-outputs/S_20130417_0600_01'\n",
      "command line output:  (b'Submitted batch job 186912\\n', b'')\n"
     ]
    },
    {
     "name": "stdin",
     "output_type": "stream",
     "text": [
      "overwrite existing directory /scratch/users/agrawalk/headcam-test-outputs/S_20130417_0600_01? (yes/no) yes\n"
     ]
    },
    {
     "name": "stdout",
     "output_type": "stream",
     "text": [
      "command submitted to sbatch job:  singularity exec --nv $SINGULARITY_CACHEDIR/openpose-latest.img bash -c 'cd /openpose-master && ./build/examples/openpose/openpose.bin --video /scratch/groups/mcfrank/Home_Headcam_new/Samcam/S_20130417_0600_01.mp4 --write_keypoint_json /scratch/users/agrawalk/headcam-test-outputs/S_20130417_0600_01'\n",
      "command line output:  (b'Submitted batch job 186913\\n', b'')\n"
     ]
    }
   ],
   "source": [
    "for face_val in [True, False]:\n",
    "    for hand_val in [True, False]:\n",
    "        test_vid = '/scratch/groups/mcfrank/Home_Headcam_new/Samcam/S_20130417_0600_01.mp4'\n",
    "        output_location = '/scratch/users/agrawalk/headcam-test-outputs/'\n",
    "        run_openpose(test_vid, output_location, face=face_val, hand=hand_val)"
   ]
  },
  {
   "cell_type": "code",
   "execution_count": 4,
   "metadata": {},
   "outputs": [
    {
     "name": "stdin",
     "output_type": "stream",
     "text": [
      "overwrite existing directory /scratch/users/agrawalk/headcam-test-outputs/S_20130417_0600_01? (yes/no) yes\n"
     ]
    },
    {
     "name": "stdout",
     "output_type": "stream",
     "text": [
      "command submitted to sbatch job:  singularity exec --nv $SINGULARITY_CACHEDIR/openpose-latest.img bash -c 'cd /openpose-master && ./build/examples/openpose/openpose.bin --video /scratch/groups/mcfrank/Home_Headcam_new/Samcam/S_20130417_0600_01.mp4 --keypoint_scale 3 --face --hand --write_keypoint_json /scratch/users/agrawalk/headcam-test-outputs/S_20130417_0600_01'\n",
      "command line output:  (b'Submitted batch job 187385\\n', b'')\n"
     ]
    }
   ],
   "source": [
    "run_openpose(test_vid, output_location, keypoint_scale=3,\n",
    "             face=True, hand=True)"
   ]
  },
  {
   "cell_type": "markdown",
   "metadata": {},
   "source": [
    "# Extracting face/hand information"
   ]
  },
  {
   "cell_type": "markdown",
   "metadata": {},
   "source": [
    "#### Extracting face/hand presence"
   ]
  },
  {
   "cell_type": "code",
   "execution_count": 4,
   "metadata": {},
   "outputs": [
    {
     "name": "stdout",
     "output_type": "stream",
     "text": [
      "{'version': 1.0, 'people': [{'pose_keypoints': [0, 0, 0, 0.365409, 0.626348, 0.352551, 0.426599, 0.653562, 0.27584, 0, 0, 0, 0, 0, 0, 0.304166, 0.601857, 0.307683, 0, 0, 0, 0, 0, 0, 0, 0, 0, 0, 0, 0, 0, 0, 0, 0, 0, 0, 0, 0, 0, 0, 0, 0, 0, 0, 0, 0, 0, 0, 0.4348, 0.506518, 0.196167, 0.353127, 0.465578, 0.328009], 'face_keypoints': [0, 0, 0, 0, 0, 0, 0, 0, 0, 0, 0, 0, 0, 0, 0, 0, 0, 0, 0, 0, 0, 0, 0, 0, 0, 0, 0, 0, 0, 0, 0, 0, 0, 0, 0, 0, 0, 0, 0, 0, 0, 0, 0, 0, 0, 0, 0, 0, 0, 0, 0, 0, 0, 0, 0, 0, 0, 0, 0, 0, 0, 0, 0, 0, 0, 0, 0, 0, 0, 0, 0, 0, 0, 0, 0, 0, 0, 0, 0, 0, 0, 0, 0, 0, 0, 0, 0, 0, 0, 0, 0, 0, 0, 0, 0, 0, 0, 0, 0, 0, 0, 0, 0, 0, 0, 0, 0, 0, 0, 0, 0, 0, 0, 0, 0, 0, 0, 0, 0, 0, 0, 0, 0, 0, 0, 0, 0, 0, 0, 0, 0, 0, 0, 0, 0, 0, 0, 0, 0, 0, 0, 0, 0, 0, 0, 0, 0, 0, 0, 0, 0, 0, 0, 0, 0, 0, 0, 0, 0, 0, 0, 0, 0, 0, 0, 0, 0, 0, 0, 0, 0, 0, 0, 0, 0, 0, 0, 0, 0, 0, 0, 0, 0, 0, 0, 0, 0, 0, 0, 0, 0, 0, 0, 0, 0, 0, 0, 0, 0, 0, 0, 0, 0, 0, 0, 0, 0, 0, 0, 0], 'hand_left_keypoints': [0, 0, 0, 0, 0, 0, 0, 0, 0, 0, 0, 0, 0, 0, 0, 0, 0, 0, 0, 0, 0, 0, 0, 0, 0, 0, 0, 0, 0, 0, 0, 0, 0, 0, 0, 0, 0, 0, 0, 0, 0, 0, 0, 0, 0, 0, 0, 0, 0, 0, 0, 0, 0, 0, 0, 0, 0, 0, 0, 0, 0, 0, 0], 'hand_right_keypoints': [0, 0, 0, 0, 0, 0, 0, 0, 0, 0, 0, 0, 0, 0, 0, 0, 0, 0, 0, 0, 0, 0, 0, 0, 0, 0, 0, 0, 0, 0, 0, 0, 0, 0, 0, 0, 0, 0, 0, 0, 0, 0, 0, 0, 0, 0, 0, 0, 0, 0, 0, 0, 0, 0, 0, 0, 0, 0, 0, 0, 0, 0, 0]}]}\n"
     ]
    }
   ],
   "source": [
    "frame = json.load(open('/scratch/users/agrawalk/A_20130531_0818_01_000000000014_keypoints.json', 'r'))\n",
    "\n",
    "print(frame)"
   ]
  },
  {
   "cell_type": "code",
   "execution_count": 6,
   "metadata": {},
   "outputs": [
    {
     "data": {
      "text/plain": [
       "[0.0, 0.0]"
      ]
     },
     "execution_count": 6,
     "metadata": {},
     "output_type": "execute_result"
    }
   ],
   "source": [
    "extract_face_hand_frame(frame) #Should be [0, 0]"
   ]
  },
  {
   "cell_type": "markdown",
   "metadata": {},
   "source": [
    "# Creating numpy arrays"
   ]
  },
  {
   "cell_type": "code",
   "execution_count": null,
   "metadata": {},
   "outputs": [],
   "source": [
    "# TODO"
   ]
  }
 ],
 "metadata": {
  "kernelspec": {
   "display_name": "Python (headcam)",
   "language": "python",
   "name": "headcam"
  },
  "language_info": {
   "codemirror_mode": {
    "name": "ipython",
    "version": 3
   },
   "file_extension": ".py",
   "mimetype": "text/x-python",
   "name": "python",
   "nbconvert_exporter": "python",
   "pygments_lexer": "ipython3",
   "version": "3.6.7"
  }
 },
 "nbformat": 4,
 "nbformat_minor": 4
}
