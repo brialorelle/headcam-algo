{
 "cells": [
  {
   "cell_type": "code",
   "execution_count": 2,
   "metadata": {},
   "outputs": [
    {
     "name": "stdout",
     "output_type": "stream",
     "text": [
      "The autoreload extension is already loaded. To reload it, use:\n",
      "  %reload_ext autoreload\n"
     ]
    }
   ],
   "source": [
    "%load_ext autoreload\n",
    "%autoreload 2\n",
    "import os\n",
    "\n",
    "# from config import *\n",
    "from openpose_helpers import *"
   ]
  },
  {
   "cell_type": "markdown",
   "metadata": {},
   "source": [
    "# Openpose"
   ]
  },
  {
   "cell_type": "code",
   "execution_count": 3,
   "metadata": {},
   "outputs": [
    {
     "name": "stdin",
     "output_type": "stream",
     "text": [
      "overwrite existing directory /scratch/users/agrawalk/headcam-test-outputs/S_20130417_0600_01? (yes/no) yes\n"
     ]
    },
    {
     "name": "stdout",
     "output_type": "stream",
     "text": [
      "command submitted to sbatch job:  singularity exec --nv $SINGULARITY_CACHEDIR/openpose-latest.img bash -c 'cd /openpose-master && ./build/examples/openpose/openpose.bin --video /scratch/groups/mcfrank/Home_Headcam_new/Samcam/S_20130417_0600_01.mp4 --face --hand --write_keypoint_json /scratch/users/agrawalk/headcam-test-outputs/S_20130417_0600_01'\n",
      "command line output:  (b'Submitted batch job 186907\\n', b'')\n"
     ]
    },
    {
     "name": "stdin",
     "output_type": "stream",
     "text": [
      "overwrite existing directory /scratch/users/agrawalk/headcam-test-outputs/S_20130417_0600_01? (yes/no) yes\n"
     ]
    },
    {
     "name": "stdout",
     "output_type": "stream",
     "text": [
      "command submitted to sbatch job:  singularity exec --nv $SINGULARITY_CACHEDIR/openpose-latest.img bash -c 'cd /openpose-master && ./build/examples/openpose/openpose.bin --video /scratch/groups/mcfrank/Home_Headcam_new/Samcam/S_20130417_0600_01.mp4 --face --write_keypoint_json /scratch/users/agrawalk/headcam-test-outputs/S_20130417_0600_01'\n",
      "command line output:  (b'Submitted batch job 186911\\n', b'')\n"
     ]
    },
    {
     "name": "stdin",
     "output_type": "stream",
     "text": [
      "overwrite existing directory /scratch/users/agrawalk/headcam-test-outputs/S_20130417_0600_01? (yes/no) yes\n"
     ]
    },
    {
     "name": "stdout",
     "output_type": "stream",
     "text": [
      "command submitted to sbatch job:  singularity exec --nv $SINGULARITY_CACHEDIR/openpose-latest.img bash -c 'cd /openpose-master && ./build/examples/openpose/openpose.bin --video /scratch/groups/mcfrank/Home_Headcam_new/Samcam/S_20130417_0600_01.mp4 --hand --write_keypoint_json /scratch/users/agrawalk/headcam-test-outputs/S_20130417_0600_01'\n",
      "command line output:  (b'Submitted batch job 186912\\n', b'')\n"
     ]
    },
    {
     "name": "stdin",
     "output_type": "stream",
     "text": [
      "overwrite existing directory /scratch/users/agrawalk/headcam-test-outputs/S_20130417_0600_01? (yes/no) yes\n"
     ]
    },
    {
     "name": "stdout",
     "output_type": "stream",
     "text": [
      "command submitted to sbatch job:  singularity exec --nv $SINGULARITY_CACHEDIR/openpose-latest.img bash -c 'cd /openpose-master && ./build/examples/openpose/openpose.bin --video /scratch/groups/mcfrank/Home_Headcam_new/Samcam/S_20130417_0600_01.mp4 --write_keypoint_json /scratch/users/agrawalk/headcam-test-outputs/S_20130417_0600_01'\n",
      "command line output:  (b'Submitted batch job 186913\\n', b'')\n"
     ]
    }
   ],
   "source": [
    "for face_val in [True, False]:\n",
    "    for hand_val in [True, False]:\n",
    "        test_vid = '/scratch/groups/mcfrank/Home_Headcam_new/Samcam/S_20130417_0600_01.mp4'\n",
    "        output_location = '/scratch/users/agrawalk/headcam-test-outputs/'\n",
    "        run_openpose(test_vid, output_location, face=face_val, hand=hand_val)"
   ]
  },
  {
   "cell_type": "code",
   "execution_count": null,
   "metadata": {},
   "outputs": [],
   "source": [
    "run_openpose(test_vid, output_location, face=face_val, hand=hand_val)"
   ]
  },
  {
   "cell_type": "markdown",
   "metadata": {},
   "source": [
    "# Extracting face/hand information"
   ]
  },
  {
   "cell_type": "markdown",
   "metadata": {},
   "source": [
    "# Creating numpy arrays"
   ]
  },
  {
   "cell_type": "code",
   "execution_count": null,
   "metadata": {},
   "outputs": [],
   "source": []
  }
 ],
 "metadata": {
  "kernelspec": {
   "display_name": "Python (headcam)",
   "language": "python",
   "name": "headcam"
  },
  "language_info": {
   "codemirror_mode": {
    "name": "ipython",
    "version": 3
   },
   "file_extension": ".py",
   "mimetype": "text/x-python",
   "name": "python",
   "nbconvert_exporter": "python",
   "pygments_lexer": "ipython3",
   "version": "3.6.7"
  }
 },
 "nbformat": 4,
 "nbformat_minor": 4
}
