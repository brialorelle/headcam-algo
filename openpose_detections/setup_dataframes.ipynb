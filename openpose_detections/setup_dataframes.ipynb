{
 "cells": [
  {
   "cell_type": "code",
   "execution_count": 1,
   "metadata": {},
   "outputs": [],
   "source": [
    "%load_ext autoreload\n",
    "%autoreload 2\n",
    "import os\n",
    "\n",
    "from config import *\n",
    "from utils import vid_info_dataframe, frame_info_dataframe"
   ]
  },
  {
   "cell_type": "code",
   "execution_count": null,
   "metadata": {},
   "outputs": [],
   "source": [
    "#NOTE: Edit these parameters in config.py\n",
    "\n",
    "print('VIDEO_DIRS: ', VIDEO_DIRS)\n",
    "print('BIRTHDATES: ', BIRTHDATES)\n",
    "print('OUTPUT: ', OUTPUT)\n",
    "if not os.path.exists(OUTPUT):\n",
    "    print('Creating output dir....')\n",
    "    os.makedirs(OUTPUT)"
   ]
  },
  {
   "cell_type": "code",
   "execution_count": 3,
   "metadata": {},
   "outputs": [
    {
     "name": "stdout",
     "output_type": "stream",
     "text": [
      "Vid info dataframe at {save_path} already exists...loading old dataframe.\n",
      "<class 'pandas.core.frame.DataFrame'>\n",
      "Int64Index: 1635 entries, 0 to 999\n",
      "Data columns (total 7 columns):\n",
      "vid_path       1635 non-null object\n",
      "vid_name       1635 non-null object\n",
      "child_id       1635 non-null object\n",
      "unix_time      1635 non-null datetime64[ns]\n",
      "age_days       1635 non-null int64\n",
      "frame_count    1635 non-null int64\n",
      "fps            1635 non-null float64\n",
      "dtypes: datetime64[ns](1), float64(1), int64(2), object(3)\n",
      "memory usage: 102.2+ KB\n",
      "None\n"
     ]
    },
    {
     "data": {
      "text/html": [
       "<div>\n",
       "<style scoped>\n",
       "    .dataframe tbody tr th:only-of-type {\n",
       "        vertical-align: middle;\n",
       "    }\n",
       "\n",
       "    .dataframe tbody tr th {\n",
       "        vertical-align: top;\n",
       "    }\n",
       "\n",
       "    .dataframe thead th {\n",
       "        text-align: right;\n",
       "    }\n",
       "</style>\n",
       "<table border=\"1\" class=\"dataframe\">\n",
       "  <thead>\n",
       "    <tr style=\"text-align: right;\">\n",
       "      <th></th>\n",
       "      <th>vid_path</th>\n",
       "      <th>vid_name</th>\n",
       "      <th>child_id</th>\n",
       "      <th>unix_time</th>\n",
       "      <th>age_days</th>\n",
       "      <th>frame_count</th>\n",
       "      <th>fps</th>\n",
       "    </tr>\n",
       "  </thead>\n",
       "  <tbody>\n",
       "    <tr>\n",
       "      <th>0</th>\n",
       "      <td>/scratch/groups/mcfrank/Home_Headcam_new/A_201...</td>\n",
       "      <td>A_20130531_0818_01</td>\n",
       "      <td>A</td>\n",
       "      <td>2013-05-31</td>\n",
       "      <td>260</td>\n",
       "      <td>53798</td>\n",
       "      <td>29.886432</td>\n",
       "    </tr>\n",
       "    <tr>\n",
       "      <th>1</th>\n",
       "      <td>/scratch/groups/mcfrank/Home_Headcam_new/A_201...</td>\n",
       "      <td>A_20130531_0818_02</td>\n",
       "      <td>A</td>\n",
       "      <td>2013-05-31</td>\n",
       "      <td>260</td>\n",
       "      <td>53699</td>\n",
       "      <td>29.827596</td>\n",
       "    </tr>\n",
       "    <tr>\n",
       "      <th>10</th>\n",
       "      <td>/scratch/groups/mcfrank/Home_Headcam_new/A_201...</td>\n",
       "      <td>A_20130916_1203_02</td>\n",
       "      <td>A</td>\n",
       "      <td>2013-09-16</td>\n",
       "      <td>368</td>\n",
       "      <td>53990</td>\n",
       "      <td>29.990403</td>\n",
       "    </tr>\n",
       "    <tr>\n",
       "      <th>100</th>\n",
       "      <td>/scratch/groups/mcfrank/Home_Headcam_new/A_201...</td>\n",
       "      <td>A_20140216_1703_06</td>\n",
       "      <td>A</td>\n",
       "      <td>2014-02-16</td>\n",
       "      <td>521</td>\n",
       "      <td>10577</td>\n",
       "      <td>30.010203</td>\n",
       "    </tr>\n",
       "    <tr>\n",
       "      <th>1000</th>\n",
       "      <td>/scratch/groups/mcfrank/Home_Headcam_new/S_201...</td>\n",
       "      <td>S_20140115_1429_03</td>\n",
       "      <td>S</td>\n",
       "      <td>2014-01-15</td>\n",
       "      <td>455</td>\n",
       "      <td>9108</td>\n",
       "      <td>30.006601</td>\n",
       "    </tr>\n",
       "  </tbody>\n",
       "</table>\n",
       "</div>"
      ],
      "text/plain": [
       "                                               vid_path            vid_name  \\\n",
       "0     /scratch/groups/mcfrank/Home_Headcam_new/A_201...  A_20130531_0818_01   \n",
       "1     /scratch/groups/mcfrank/Home_Headcam_new/A_201...  A_20130531_0818_02   \n",
       "10    /scratch/groups/mcfrank/Home_Headcam_new/A_201...  A_20130916_1203_02   \n",
       "100   /scratch/groups/mcfrank/Home_Headcam_new/A_201...  A_20140216_1703_06   \n",
       "1000  /scratch/groups/mcfrank/Home_Headcam_new/S_201...  S_20140115_1429_03   \n",
       "\n",
       "     child_id  unix_time  age_days  frame_count        fps  \n",
       "0           A 2013-05-31       260        53798  29.886432  \n",
       "1           A 2013-05-31       260        53699  29.827596  \n",
       "10          A 2013-09-16       368        53990  29.990403  \n",
       "100         A 2014-02-16       521        10577  30.010203  \n",
       "1000        S 2014-01-15       455         9108  30.006601  "
      ]
     },
     "execution_count": 3,
     "metadata": {},
     "output_type": "execute_result"
    }
   ],
   "source": [
    "vid_df = vid_info_dataframe(VIDEO_DIRS, BIRTHDATES, save_path=VID_DATAFRAME_PATH)\n",
    "print(vid_df.info())\n",
    "vid_df.head()"
   ]
  },
  {
   "cell_type": "code",
   "execution_count": null,
   "metadata": {},
   "outputs": [],
   "source": [
    "frame_df = frame_info_dataframe(vid_df, save_path=FRAME_DATAFRAME_PATH)\n",
    "print(frame_df.info())\n",
    "frame_df.head()"
   ]
  }
 ],
 "metadata": {
  "kernelspec": {
   "display_name": "Python 3",
   "language": "python",
   "name": "python3"
  },
  "language_info": {
   "codemirror_mode": {
    "name": "ipython",
    "version": 3
   },
   "file_extension": ".py",
   "mimetype": "text/x-python",
   "name": "python",
   "nbconvert_exporter": "python",
   "pygments_lexer": "ipython3",
   "version": "3.6.7"
  }
 },
 "nbformat": 4,
 "nbformat_minor": 2
}
