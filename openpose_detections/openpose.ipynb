{
 "cells": [
  {
   "cell_type": "code",
   "execution_count": 2,
   "metadata": {},
   "outputs": [],
   "source": [
    "%load_ext autoreload\n",
    "%autoreload 2\n",
    "import os\n",
    "\n",
    "from config import *\n",
    "from openpose_helpers import *"
   ]
  },
  {
   "cell_type": "code",
   "execution_count": 3,
   "metadata": {},
   "outputs": [
    {
     "name": "stdout",
     "output_type": "stream",
     "text": [
      "VID_ROTATE:  180\n",
      "OPENPOSE_OUTPUT:  /scratch/users/agrawalk/headcam-algo-output/openpose\n",
      "OPENPOSE_CONDENSED_OUTPUT:  /scratch/users/agrawalk/headcam-algo-output/openpose_condensed\n",
      "VID_DATAFRAME_PATH:  /scratch/users/agrawalk/headcam-algo-output/master_vid_info.json\n",
      "FRAME_DATAFRAME_PATH:  /scratch/users/agrawalk/headcam-algo-output/master_frames_openpose.h5\n"
     ]
    }
   ],
   "source": [
    "#Edit these parameters in config.py\n",
    "\n",
    "print('VID_ROTATE: ', VID_ROTATE)\n",
    "print('OPENPOSE_OUTPUT: ', OPENPOSE_OUTPUT)\n",
    "print('OPENPOSE_CONDENSED_OUTPUT: ', OPENPOSE_CONDENSED_OUTPUT)\n",
    "print('VID_DATAFRAME_PATH: ', VID_DATAFRAME_PATH)\n",
    "print('FRAME_DATAFRAME_PATH: ', FRAME_DATAFRAME_PATH)"
   ]
  },
  {
   "cell_type": "code",
   "execution_count": 4,
   "metadata": {},
   "outputs": [
    {
     "data": {
      "text/html": [
       "<div>\n",
       "<style scoped>\n",
       "    .dataframe tbody tr th:only-of-type {\n",
       "        vertical-align: middle;\n",
       "    }\n",
       "\n",
       "    .dataframe tbody tr th {\n",
       "        vertical-align: top;\n",
       "    }\n",
       "\n",
       "    .dataframe thead th {\n",
       "        text-align: right;\n",
       "    }\n",
       "</style>\n",
       "<table border=\"1\" class=\"dataframe\">\n",
       "  <thead>\n",
       "    <tr style=\"text-align: right;\">\n",
       "      <th></th>\n",
       "      <th>vid_path</th>\n",
       "      <th>vid_name</th>\n",
       "      <th>child_id</th>\n",
       "      <th>unix_time</th>\n",
       "      <th>age_days</th>\n",
       "      <th>frame_count</th>\n",
       "      <th>fps</th>\n",
       "    </tr>\n",
       "  </thead>\n",
       "  <tbody>\n",
       "    <tr>\n",
       "      <th>0</th>\n",
       "      <td>/scratch/groups/mcfrank/Home_Headcam_new/A_201...</td>\n",
       "      <td>A_20130531_0818_01</td>\n",
       "      <td>A</td>\n",
       "      <td>2013-05-31</td>\n",
       "      <td>260</td>\n",
       "      <td>53798</td>\n",
       "      <td>29.886432</td>\n",
       "    </tr>\n",
       "    <tr>\n",
       "      <th>1</th>\n",
       "      <td>/scratch/groups/mcfrank/Home_Headcam_new/A_201...</td>\n",
       "      <td>A_20130531_0818_02</td>\n",
       "      <td>A</td>\n",
       "      <td>2013-05-31</td>\n",
       "      <td>260</td>\n",
       "      <td>53699</td>\n",
       "      <td>29.827596</td>\n",
       "    </tr>\n",
       "    <tr>\n",
       "      <th>10</th>\n",
       "      <td>/scratch/groups/mcfrank/Home_Headcam_new/A_201...</td>\n",
       "      <td>A_20130916_1203_02</td>\n",
       "      <td>A</td>\n",
       "      <td>2013-09-16</td>\n",
       "      <td>368</td>\n",
       "      <td>53990</td>\n",
       "      <td>29.990403</td>\n",
       "    </tr>\n",
       "    <tr>\n",
       "      <th>100</th>\n",
       "      <td>/scratch/groups/mcfrank/Home_Headcam_new/A_201...</td>\n",
       "      <td>A_20140216_1703_06</td>\n",
       "      <td>A</td>\n",
       "      <td>2014-02-16</td>\n",
       "      <td>521</td>\n",
       "      <td>10577</td>\n",
       "      <td>30.010203</td>\n",
       "    </tr>\n",
       "    <tr>\n",
       "      <th>1000</th>\n",
       "      <td>/scratch/groups/mcfrank/Home_Headcam_new/S_201...</td>\n",
       "      <td>S_20140115_1429_03</td>\n",
       "      <td>S</td>\n",
       "      <td>2014-01-15</td>\n",
       "      <td>455</td>\n",
       "      <td>9108</td>\n",
       "      <td>30.006601</td>\n",
       "    </tr>\n",
       "  </tbody>\n",
       "</table>\n",
       "</div>"
      ],
      "text/plain": [
       "                                               vid_path            vid_name  \\\n",
       "0     /scratch/groups/mcfrank/Home_Headcam_new/A_201...  A_20130531_0818_01   \n",
       "1     /scratch/groups/mcfrank/Home_Headcam_new/A_201...  A_20130531_0818_02   \n",
       "10    /scratch/groups/mcfrank/Home_Headcam_new/A_201...  A_20130916_1203_02   \n",
       "100   /scratch/groups/mcfrank/Home_Headcam_new/A_201...  A_20140216_1703_06   \n",
       "1000  /scratch/groups/mcfrank/Home_Headcam_new/S_201...  S_20140115_1429_03   \n",
       "\n",
       "     child_id  unix_time  age_days  frame_count        fps  \n",
       "0           A 2013-05-31       260        53798  29.886432  \n",
       "1           A 2013-05-31       260        53699  29.827596  \n",
       "10          A 2013-09-16       368        53990  29.990403  \n",
       "100         A 2014-02-16       521        10577  30.010203  \n",
       "1000        S 2014-01-15       455         9108  30.006601  "
      ]
     },
     "execution_count": 4,
     "metadata": {},
     "output_type": "execute_result"
    }
   ],
   "source": [
    "vid_df = pd.read_json(VID_DATAFRAME_PATH)\n",
    "vid_df.head()"
   ]
  },
  {
   "cell_type": "code",
   "execution_count": 5,
   "metadata": {},
   "outputs": [],
   "source": [
    "def queue_size():\n",
    "    size = !squeue -u $USER\n",
    "    return len(size) - 1\n",
    "\n",
    "def wait_for_space():\n",
    "    time.sleep(5) #Allow for squeue to refresh properly\n",
    "    if queue_size() >= 40:\n",
    "        print('Waiting for space in queue...')\n",
    "    while queue_size() >= 40:\n",
    "        time.sleep(600)"
   ]
  },
  {
   "cell_type": "code",
   "execution_count": null,
   "metadata": {},
   "outputs": [],
   "source": [
    "for vid_path in vid_df['vid_path']:\n",
    "    wait_for_space()\n",
    "    run_openpose(vid_path, OPENPOSE_OUTPUT, frame_rotate=VID_ROTATE, overwrite=False)"
   ]
  },
  {
   "cell_type": "code",
   "execution_count": null,
   "metadata": {},
   "outputs": [],
   "source": [
    "#Takes a minute or so to load\n",
    "frame_df = pd.read_hdf(FRAME_DATAFRAME_PATH, key='master_frames')\n",
    "frame_df.head()"
   ]
  },
  {
   "cell_type": "code",
   "execution_count": null,
   "metadata": {},
   "outputs": [],
   "source": [
    "condense_openpose(frame_df, overwrite=False)"
   ]
  }
 ],
 "metadata": {
  "kernelspec": {
   "display_name": "Python 3",
   "language": "python",
   "name": "python3"
  },
  "language_info": {
   "codemirror_mode": {
    "name": "ipython",
    "version": 3
   },
   "file_extension": ".py",
   "mimetype": "text/x-python",
   "name": "python",
   "nbconvert_exporter": "python",
   "pygments_lexer": "ipython3",
   "version": "3.6.7"
  }
 },
 "nbformat": 4,
 "nbformat_minor": 2
}
