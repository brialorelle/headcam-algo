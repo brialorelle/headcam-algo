{
 "cells": [
  {
   "cell_type": "code",
   "execution_count": 1,
   "metadata": {
    "collapsed": true
   },
   "outputs": [],
   "source": [
    "%load_ext autoreload\n",
    "%autoreload 2\n",
    "import os\n",
    "\n",
    "from config import *\n",
    "from utils import *\n",
    "from detector_validation_helpers import *"
   ]
  },
  {
   "cell_type": "code",
   "execution_count": 2,
   "metadata": {},
   "outputs": [
    {
     "name": "stdout",
     "output_type": "stream",
     "text": [
      "VID_DATAFRAME_PATH:  /Users/brialong/Documents/GitHub/headcam-algo/data/op_outputs/master_vid_info.json\n",
      "FRAME_DATAFRAME_PATH:  /Users/brialong/Documents/GitHub/headcam-algo/data/op_outputs/master_frames_openpose.h5\n",
      "GOLD_SET_NUM_FRAMES:  24000\n"
     ]
    }
   ],
   "source": [
    "print('VID_DATAFRAME_PATH: ', VID_DATAFRAME_PATH)\n",
    "print('FRAME_DATAFRAME_PATH: ', FRAME_DATAFRAME_PATH)\n",
    "print('GOLD_SET_NUM_FRAMES: ', GOLD_SET_NUM_FRAMES)"
   ]
  },
  {
   "cell_type": "code",
   "execution_count": 11,
   "metadata": {},
   "outputs": [
    {
     "data": {
      "text/plain": [
       "<KeysViewHDF5 ['master_frames', 'table']>"
      ]
     },
     "execution_count": 11,
     "metadata": {},
     "output_type": "execute_result"
    }
   ],
   "source": [
    "import h5py\n",
    "file = h5py.File(FRAME_DATAFRAME_PATH, 'r')\n",
    "file.keys()"
   ]
  },
  {
   "cell_type": "code",
   "execution_count": null,
   "metadata": {},
   "outputs": [],
   "source": []
  },
  {
   "cell_type": "code",
   "execution_count": 8,
   "metadata": {},
   "outputs": [
    {
     "ename": "ValueError",
     "evalue": "key must be provided when HDF5 file contains multiple datasets.",
     "output_type": "error",
     "traceback": [
      "\u001b[0;31m---------------------------------------------------------------------------\u001b[0m",
      "\u001b[0;31mValueError\u001b[0m                                Traceback (most recent call last)",
      "\u001b[0;32m<ipython-input-8-97b6e20a2869>\u001b[0m in \u001b[0;36m<module>\u001b[0;34m\u001b[0m\n\u001b[0;32m----> 1\u001b[0;31m \u001b[0mframe_df_full\u001b[0m \u001b[0;34m=\u001b[0m \u001b[0mpd\u001b[0m\u001b[0;34m.\u001b[0m\u001b[0mread_hdf\u001b[0m\u001b[0;34m(\u001b[0m\u001b[0mFRAME_DATAFRAME_PATH\u001b[0m\u001b[0;34m)\u001b[0m\u001b[0;34m\u001b[0m\u001b[0m\n\u001b[0m",
      "\u001b[0;32m/Library/Frameworks/Python.framework/Versions/3.6/lib/python3.6/site-packages/pandas/io/pytables.py\u001b[0m in \u001b[0;36mread_hdf\u001b[0;34m(path_or_buf, key, mode, **kwargs)\u001b[0m\n\u001b[1;32m    401\u001b[0m                 \u001b[0;32mif\u001b[0m \u001b[0;32mnot\u001b[0m \u001b[0m_is_metadata_of\u001b[0m\u001b[0;34m(\u001b[0m\u001b[0mgroup_to_check\u001b[0m\u001b[0;34m,\u001b[0m \u001b[0mcandidate_only_group\u001b[0m\u001b[0;34m)\u001b[0m\u001b[0;34m:\u001b[0m\u001b[0;34m\u001b[0m\u001b[0m\n\u001b[1;32m    402\u001b[0m                     raise ValueError(\n\u001b[0;32m--> 403\u001b[0;31m                         \u001b[0;34m\"key must be provided when HDF5 file \"\u001b[0m\u001b[0;34m\u001b[0m\u001b[0m\n\u001b[0m\u001b[1;32m    404\u001b[0m                         \u001b[0;34m\"contains multiple datasets.\"\u001b[0m\u001b[0;34m\u001b[0m\u001b[0m\n\u001b[1;32m    405\u001b[0m                     )\n",
      "\u001b[0;31mValueError\u001b[0m: key must be provided when HDF5 file contains multiple datasets."
     ]
    }
   ],
   "source": [
    "frame_df_full = pd.read_hdf(FRAME_DATAFRAME_PATH)"
   ]
  },
  {
   "cell_type": "code",
   "execution_count": 7,
   "metadata": {},
   "outputs": [
    {
     "data": {
      "text/html": [
       "<div>\n",
       "<style scoped>\n",
       "    .dataframe tbody tr th:only-of-type {\n",
       "        vertical-align: middle;\n",
       "    }\n",
       "\n",
       "    .dataframe tbody tr th {\n",
       "        vertical-align: top;\n",
       "    }\n",
       "\n",
       "    .dataframe thead th {\n",
       "        text-align: right;\n",
       "    }\n",
       "</style>\n",
       "<table border=\"1\" class=\"dataframe\">\n",
       "  <thead>\n",
       "    <tr style=\"text-align: right;\">\n",
       "      <th></th>\n",
       "      <th>vid_name</th>\n",
       "      <th>vid_path</th>\n",
       "      <th>child_id</th>\n",
       "      <th>frame</th>\n",
       "      <th>unix_time</th>\n",
       "      <th>age_days</th>\n",
       "      <th>nose_conf</th>\n",
       "      <th>wrist_conf</th>\n",
       "      <th>face_openpose</th>\n",
       "      <th>hand_openpose</th>\n",
       "    </tr>\n",
       "  </thead>\n",
       "  <tbody>\n",
       "    <tr>\n",
       "      <th>0</th>\n",
       "      <td>A_20130531_0818_01</td>\n",
       "      <td>/scratch/groups/mcfrank/Home_Headcam_new/A_201...</td>\n",
       "      <td>A</td>\n",
       "      <td>0</td>\n",
       "      <td>2013-05-31</td>\n",
       "      <td>260</td>\n",
       "      <td>0.0</td>\n",
       "      <td>0.000000</td>\n",
       "      <td>False</td>\n",
       "      <td>False</td>\n",
       "    </tr>\n",
       "    <tr>\n",
       "      <th>1</th>\n",
       "      <td>A_20130531_0818_01</td>\n",
       "      <td>/scratch/groups/mcfrank/Home_Headcam_new/A_201...</td>\n",
       "      <td>A</td>\n",
       "      <td>1</td>\n",
       "      <td>2013-05-31</td>\n",
       "      <td>260</td>\n",
       "      <td>0.0</td>\n",
       "      <td>0.000000</td>\n",
       "      <td>False</td>\n",
       "      <td>False</td>\n",
       "    </tr>\n",
       "    <tr>\n",
       "      <th>2</th>\n",
       "      <td>A_20130531_0818_01</td>\n",
       "      <td>/scratch/groups/mcfrank/Home_Headcam_new/A_201...</td>\n",
       "      <td>A</td>\n",
       "      <td>2</td>\n",
       "      <td>2013-05-31</td>\n",
       "      <td>260</td>\n",
       "      <td>0.0</td>\n",
       "      <td>0.000000</td>\n",
       "      <td>False</td>\n",
       "      <td>False</td>\n",
       "    </tr>\n",
       "    <tr>\n",
       "      <th>3</th>\n",
       "      <td>A_20130531_0818_01</td>\n",
       "      <td>/scratch/groups/mcfrank/Home_Headcam_new/A_201...</td>\n",
       "      <td>A</td>\n",
       "      <td>3</td>\n",
       "      <td>2013-05-31</td>\n",
       "      <td>260</td>\n",
       "      <td>0.0</td>\n",
       "      <td>0.000000</td>\n",
       "      <td>False</td>\n",
       "      <td>False</td>\n",
       "    </tr>\n",
       "    <tr>\n",
       "      <th>4</th>\n",
       "      <td>A_20130531_0818_01</td>\n",
       "      <td>/scratch/groups/mcfrank/Home_Headcam_new/A_201...</td>\n",
       "      <td>A</td>\n",
       "      <td>4</td>\n",
       "      <td>2013-05-31</td>\n",
       "      <td>260</td>\n",
       "      <td>0.0</td>\n",
       "      <td>0.000000</td>\n",
       "      <td>False</td>\n",
       "      <td>False</td>\n",
       "    </tr>\n",
       "    <tr>\n",
       "      <th>5</th>\n",
       "      <td>A_20130531_0818_01</td>\n",
       "      <td>/scratch/groups/mcfrank/Home_Headcam_new/A_201...</td>\n",
       "      <td>A</td>\n",
       "      <td>5</td>\n",
       "      <td>2013-05-31</td>\n",
       "      <td>260</td>\n",
       "      <td>0.0</td>\n",
       "      <td>0.000000</td>\n",
       "      <td>False</td>\n",
       "      <td>False</td>\n",
       "    </tr>\n",
       "    <tr>\n",
       "      <th>6</th>\n",
       "      <td>A_20130531_0818_01</td>\n",
       "      <td>/scratch/groups/mcfrank/Home_Headcam_new/A_201...</td>\n",
       "      <td>A</td>\n",
       "      <td>6</td>\n",
       "      <td>2013-05-31</td>\n",
       "      <td>260</td>\n",
       "      <td>0.0</td>\n",
       "      <td>0.000000</td>\n",
       "      <td>False</td>\n",
       "      <td>False</td>\n",
       "    </tr>\n",
       "    <tr>\n",
       "      <th>7</th>\n",
       "      <td>A_20130531_0818_01</td>\n",
       "      <td>/scratch/groups/mcfrank/Home_Headcam_new/A_201...</td>\n",
       "      <td>A</td>\n",
       "      <td>7</td>\n",
       "      <td>2013-05-31</td>\n",
       "      <td>260</td>\n",
       "      <td>0.0</td>\n",
       "      <td>0.000000</td>\n",
       "      <td>False</td>\n",
       "      <td>False</td>\n",
       "    </tr>\n",
       "    <tr>\n",
       "      <th>8</th>\n",
       "      <td>A_20130531_0818_01</td>\n",
       "      <td>/scratch/groups/mcfrank/Home_Headcam_new/A_201...</td>\n",
       "      <td>A</td>\n",
       "      <td>8</td>\n",
       "      <td>2013-05-31</td>\n",
       "      <td>260</td>\n",
       "      <td>0.0</td>\n",
       "      <td>0.000000</td>\n",
       "      <td>False</td>\n",
       "      <td>False</td>\n",
       "    </tr>\n",
       "    <tr>\n",
       "      <th>9</th>\n",
       "      <td>A_20130531_0818_01</td>\n",
       "      <td>/scratch/groups/mcfrank/Home_Headcam_new/A_201...</td>\n",
       "      <td>A</td>\n",
       "      <td>9</td>\n",
       "      <td>2013-05-31</td>\n",
       "      <td>260</td>\n",
       "      <td>0.0</td>\n",
       "      <td>0.000000</td>\n",
       "      <td>False</td>\n",
       "      <td>False</td>\n",
       "    </tr>\n",
       "    <tr>\n",
       "      <th>10</th>\n",
       "      <td>A_20130531_0818_01</td>\n",
       "      <td>/scratch/groups/mcfrank/Home_Headcam_new/A_201...</td>\n",
       "      <td>A</td>\n",
       "      <td>10</td>\n",
       "      <td>2013-05-31</td>\n",
       "      <td>260</td>\n",
       "      <td>0.0</td>\n",
       "      <td>0.000000</td>\n",
       "      <td>False</td>\n",
       "      <td>False</td>\n",
       "    </tr>\n",
       "    <tr>\n",
       "      <th>11</th>\n",
       "      <td>A_20130531_0818_01</td>\n",
       "      <td>/scratch/groups/mcfrank/Home_Headcam_new/A_201...</td>\n",
       "      <td>A</td>\n",
       "      <td>11</td>\n",
       "      <td>2013-05-31</td>\n",
       "      <td>260</td>\n",
       "      <td>0.0</td>\n",
       "      <td>0.000000</td>\n",
       "      <td>False</td>\n",
       "      <td>False</td>\n",
       "    </tr>\n",
       "    <tr>\n",
       "      <th>12</th>\n",
       "      <td>A_20130531_0818_01</td>\n",
       "      <td>/scratch/groups/mcfrank/Home_Headcam_new/A_201...</td>\n",
       "      <td>A</td>\n",
       "      <td>12</td>\n",
       "      <td>2013-05-31</td>\n",
       "      <td>260</td>\n",
       "      <td>0.0</td>\n",
       "      <td>0.000000</td>\n",
       "      <td>False</td>\n",
       "      <td>False</td>\n",
       "    </tr>\n",
       "    <tr>\n",
       "      <th>13</th>\n",
       "      <td>A_20130531_0818_01</td>\n",
       "      <td>/scratch/groups/mcfrank/Home_Headcam_new/A_201...</td>\n",
       "      <td>A</td>\n",
       "      <td>13</td>\n",
       "      <td>2013-05-31</td>\n",
       "      <td>260</td>\n",
       "      <td>0.0</td>\n",
       "      <td>0.000000</td>\n",
       "      <td>False</td>\n",
       "      <td>False</td>\n",
       "    </tr>\n",
       "    <tr>\n",
       "      <th>14</th>\n",
       "      <td>A_20130531_0818_01</td>\n",
       "      <td>/scratch/groups/mcfrank/Home_Headcam_new/A_201...</td>\n",
       "      <td>A</td>\n",
       "      <td>14</td>\n",
       "      <td>2013-05-31</td>\n",
       "      <td>260</td>\n",
       "      <td>0.0</td>\n",
       "      <td>0.639955</td>\n",
       "      <td>False</td>\n",
       "      <td>True</td>\n",
       "    </tr>\n",
       "  </tbody>\n",
       "</table>\n",
       "</div>"
      ],
      "text/plain": [
       "              vid_name                                           vid_path  \\\n",
       "0   A_20130531_0818_01  /scratch/groups/mcfrank/Home_Headcam_new/A_201...   \n",
       "1   A_20130531_0818_01  /scratch/groups/mcfrank/Home_Headcam_new/A_201...   \n",
       "2   A_20130531_0818_01  /scratch/groups/mcfrank/Home_Headcam_new/A_201...   \n",
       "3   A_20130531_0818_01  /scratch/groups/mcfrank/Home_Headcam_new/A_201...   \n",
       "4   A_20130531_0818_01  /scratch/groups/mcfrank/Home_Headcam_new/A_201...   \n",
       "5   A_20130531_0818_01  /scratch/groups/mcfrank/Home_Headcam_new/A_201...   \n",
       "6   A_20130531_0818_01  /scratch/groups/mcfrank/Home_Headcam_new/A_201...   \n",
       "7   A_20130531_0818_01  /scratch/groups/mcfrank/Home_Headcam_new/A_201...   \n",
       "8   A_20130531_0818_01  /scratch/groups/mcfrank/Home_Headcam_new/A_201...   \n",
       "9   A_20130531_0818_01  /scratch/groups/mcfrank/Home_Headcam_new/A_201...   \n",
       "10  A_20130531_0818_01  /scratch/groups/mcfrank/Home_Headcam_new/A_201...   \n",
       "11  A_20130531_0818_01  /scratch/groups/mcfrank/Home_Headcam_new/A_201...   \n",
       "12  A_20130531_0818_01  /scratch/groups/mcfrank/Home_Headcam_new/A_201...   \n",
       "13  A_20130531_0818_01  /scratch/groups/mcfrank/Home_Headcam_new/A_201...   \n",
       "14  A_20130531_0818_01  /scratch/groups/mcfrank/Home_Headcam_new/A_201...   \n",
       "\n",
       "   child_id  frame  unix_time  age_days  nose_conf  wrist_conf  face_openpose  \\\n",
       "0         A      0 2013-05-31       260        0.0    0.000000          False   \n",
       "1         A      1 2013-05-31       260        0.0    0.000000          False   \n",
       "2         A      2 2013-05-31       260        0.0    0.000000          False   \n",
       "3         A      3 2013-05-31       260        0.0    0.000000          False   \n",
       "4         A      4 2013-05-31       260        0.0    0.000000          False   \n",
       "5         A      5 2013-05-31       260        0.0    0.000000          False   \n",
       "6         A      6 2013-05-31       260        0.0    0.000000          False   \n",
       "7         A      7 2013-05-31       260        0.0    0.000000          False   \n",
       "8         A      8 2013-05-31       260        0.0    0.000000          False   \n",
       "9         A      9 2013-05-31       260        0.0    0.000000          False   \n",
       "10        A     10 2013-05-31       260        0.0    0.000000          False   \n",
       "11        A     11 2013-05-31       260        0.0    0.000000          False   \n",
       "12        A     12 2013-05-31       260        0.0    0.000000          False   \n",
       "13        A     13 2013-05-31       260        0.0    0.000000          False   \n",
       "14        A     14 2013-05-31       260        0.0    0.639955          False   \n",
       "\n",
       "    hand_openpose  \n",
       "0           False  \n",
       "1           False  \n",
       "2           False  \n",
       "3           False  \n",
       "4           False  \n",
       "5           False  \n",
       "6           False  \n",
       "7           False  \n",
       "8           False  \n",
       "9           False  \n",
       "10          False  \n",
       "11          False  \n",
       "12          False  \n",
       "13          False  \n",
       "14           True  "
      ]
     },
     "execution_count": 7,
     "metadata": {},
     "output_type": "execute_result"
    }
   ],
   "source": [
    "frame_df.head(15)"
   ]
  },
  {
   "cell_type": "code",
   "execution_count": 7,
   "metadata": {
    "collapsed": true
   },
   "outputs": [],
   "source": [
    "sample_df = sample_dataframe(frame_df, sample_size=GOLD_SET_NUM_FRAMES)"
   ]
  },
  {
   "cell_type": "code",
   "execution_count": 10,
   "metadata": {},
   "outputs": [
    {
     "name": "stdout",
     "output_type": "stream",
     "text": [
      "<class 'pandas.core.frame.DataFrame'>\n",
      "RangeIndex: 100 entries, 0 to 99\n",
      "Data columns (total 4 columns):\n",
      "vid_name    100 non-null object\n",
      "vid_path    100 non-null object\n",
      "child_id    100 non-null object\n",
      "frame       100 non-null int64\n",
      "dtypes: int64(1), object(3)\n",
      "memory usage: 3.2+ KB\n",
      "None\n"
     ]
    },
    {
     "data": {
      "text/html": [
       "<div>\n",
       "<style scoped>\n",
       "    .dataframe tbody tr th:only-of-type {\n",
       "        vertical-align: middle;\n",
       "    }\n",
       "\n",
       "    .dataframe tbody tr th {\n",
       "        vertical-align: top;\n",
       "    }\n",
       "\n",
       "    .dataframe thead th {\n",
       "        text-align: right;\n",
       "    }\n",
       "</style>\n",
       "<table border=\"1\" class=\"dataframe\">\n",
       "  <thead>\n",
       "    <tr style=\"text-align: right;\">\n",
       "      <th></th>\n",
       "      <th>vid_name</th>\n",
       "      <th>vid_path</th>\n",
       "      <th>child_id</th>\n",
       "      <th>frame</th>\n",
       "    </tr>\n",
       "  </thead>\n",
       "  <tbody>\n",
       "    <tr>\n",
       "      <th>0</th>\n",
       "      <td>A_20130531_0818_01</td>\n",
       "      <td>/scratch/users/agrawalk/pipeline_test_vids/A_2...</td>\n",
       "      <td>A</td>\n",
       "      <td>4378</td>\n",
       "    </tr>\n",
       "    <tr>\n",
       "      <th>1</th>\n",
       "      <td>A_20130531_0818_01</td>\n",
       "      <td>/scratch/users/agrawalk/pipeline_test_vids/A_2...</td>\n",
       "      <td>A</td>\n",
       "      <td>5626</td>\n",
       "    </tr>\n",
       "    <tr>\n",
       "      <th>2</th>\n",
       "      <td>A_20130531_0818_01</td>\n",
       "      <td>/scratch/users/agrawalk/pipeline_test_vids/A_2...</td>\n",
       "      <td>A</td>\n",
       "      <td>6760</td>\n",
       "    </tr>\n",
       "    <tr>\n",
       "      <th>3</th>\n",
       "      <td>A_20130531_0818_01</td>\n",
       "      <td>/scratch/users/agrawalk/pipeline_test_vids/A_2...</td>\n",
       "      <td>A</td>\n",
       "      <td>8501</td>\n",
       "    </tr>\n",
       "    <tr>\n",
       "      <th>4</th>\n",
       "      <td>A_20130531_0818_01</td>\n",
       "      <td>/scratch/users/agrawalk/pipeline_test_vids/A_2...</td>\n",
       "      <td>A</td>\n",
       "      <td>8840</td>\n",
       "    </tr>\n",
       "  </tbody>\n",
       "</table>\n",
       "</div>"
      ],
      "text/plain": [
       "             vid_name                                           vid_path  \\\n",
       "0  A_20130531_0818_01  /scratch/users/agrawalk/pipeline_test_vids/A_2...   \n",
       "1  A_20130531_0818_01  /scratch/users/agrawalk/pipeline_test_vids/A_2...   \n",
       "2  A_20130531_0818_01  /scratch/users/agrawalk/pipeline_test_vids/A_2...   \n",
       "3  A_20130531_0818_01  /scratch/users/agrawalk/pipeline_test_vids/A_2...   \n",
       "4  A_20130531_0818_01  /scratch/users/agrawalk/pipeline_test_vids/A_2...   \n",
       "\n",
       "  child_id  frame  \n",
       "0        A   4378  \n",
       "1        A   5626  \n",
       "2        A   6760  \n",
       "3        A   8501  \n",
       "4        A   8840  "
      ]
     },
     "execution_count": 10,
     "metadata": {},
     "output_type": "execute_result"
    }
   ],
   "source": [
    "print(sample_df.info())\n",
    "sample_df.head()"
   ]
  },
  {
   "cell_type": "code",
   "execution_count": 13,
   "metadata": {},
   "outputs": [
    {
     "name": "stdout",
     "output_type": "stream",
     "text": [
      "Loading imgs #0\n",
      "Saving imgs #0\n"
     ]
    }
   ],
   "source": [
    "batch_paths = save_sample_imgs(sample_df)"
   ]
  },
  {
   "cell_type": "code",
   "execution_count": null,
   "metadata": {
    "collapsed": true
   },
   "outputs": [],
   "source": [
    "#NOTE: May need to run this on local machine.\n",
    "sample_df['face_present'], sample_df['hand_present'] = annotate_frames(batch_paths)"
   ]
  },
  {
   "cell_type": "code",
   "execution_count": 58,
   "metadata": {},
   "outputs": [
    {
     "name": "stdout",
     "output_type": "stream",
     "text": [
      "Precision: 0.5 Recall: 1.0 F1 Score: 0.6666666666666666\n"
     ]
    },
    {
     "data": {
      "text/plain": [
       "(0.5, 1.0, 0.6666666666666666)"
      ]
     },
     "execution_count": 58,
     "metadata": {},
     "output_type": "execute_result"
    }
   ],
   "source": [
    "#Need to make sure that face_openpose column is present in sample_df\n",
    "calc_prf(sample_df['face_openpose'], sample_df['face_present'], print_vals=True)"
   ]
  }
 ],
 "metadata": {
  "kernelspec": {
   "display_name": "Python 3",
   "language": "python",
   "name": "python3"
  },
  "language_info": {
   "codemirror_mode": {
    "name": "ipython",
    "version": 3
   },
   "file_extension": ".py",
   "mimetype": "text/x-python",
   "name": "python",
   "nbconvert_exporter": "python",
   "pygments_lexer": "ipython3",
   "version": "3.6.2"
  }
 },
 "nbformat": 4,
 "nbformat_minor": 2
}
